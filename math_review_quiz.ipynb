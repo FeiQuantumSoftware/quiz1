{
 "cells": [
  {
   "cell_type": "markdown",
   "metadata": {},
   "source": [
    "# Quiz 1\n",
    "\n",
    "Working alone (without consulting your neighbor), answer to the best of your ability. "
   ]
  },
  {
   "cell_type": "markdown",
   "metadata": {},
   "source": [
    "1. What is a Vector?"
   ]
  },
  {
   "cell_type": "markdown",
   "metadata": {},
   "source": [
    "A vector is a line with direction in n-dimentional space. eg: $\\mathbf{x}\\in\\mathbf{R^n}$ is $\\mathbf{x}=\\{x_1,x_2,\\dots,x_n\\}$, with $x_i\\in \\mathbf{R}$"
   ]
  },
  {
   "cell_type": "markdown",
   "metadata": {},
   "source": [
    "2. What is a Matrix?"
   ]
  },
  {
   "cell_type": "markdown",
   "metadata": {},
   "source": [
    "Matrix $\\mathbf{Y}=\n",
    "\\begin{pmatrix}\n",
    "y_{1,1}&y_{1,2}&\\dots&y_{1,n}\\\\\n",
    "y_{2,1}&y_{2,2}&\\dots&y_{2,n}\\\\ \n",
    "\\dots & \\dots\\\\\n",
    "y_{m,1}&y_{m,2}&\\dots&y_{m,n}\\\\\n",
    "\\end{pmatrix}$"
   ]
  },
  {
   "cell_type": "markdown",
   "metadata": {},
   "source": [
    "3. Given the following vectors\n",
    "$\\mathbf{x} = \\begin{pmatrix}a\\\\b\\end{pmatrix}$ and  $\\mathbf{y} = \\begin{pmatrix}c\\\\d\\end{pmatrix}$,\n",
    "what does $\\mathbf{x}\\cdot\\mathbf{y}$ equal?"
   ]
  },
  {
   "cell_type": "markdown",
   "metadata": {},
   "source": [
    "$\\mathbf{x}\\cdot\\mathbf{y}=ac+bd$"
   ]
  },
  {
   "cell_type": "markdown",
   "metadata": {},
   "source": [
    "4. Given the following vector and matrix,\n",
    "$\\mathbf{x} = \\begin{pmatrix}a\\\\b\\end{pmatrix}$ and  $\\mathbf{Y} = \\begin{pmatrix}c & d \\\\ e & f\\end{pmatrix}$,\n",
    "what does $\\mathbf{Y}\\mathbf{x}$ equal?"
   ]
  },
  {
   "cell_type": "markdown",
   "metadata": {},
   "source": [
    "$\\mathbf{Yx}=\\begin{pmatrix}ac+bd\\\\ae+bf\\end{pmatrix}$"
   ]
  },
  {
   "cell_type": "markdown",
   "metadata": {},
   "source": [
    "5. Given the following matrices,\n",
    "$\\mathbf{X} = \\begin{pmatrix}a & b \\\\ c & d\\end{pmatrix}$ and  $\\mathbf{Y} = \\begin{pmatrix}e & f \\\\ g & h\\end{pmatrix}$,\n",
    "what does $\\mathbf{X}\\mathbf{Y}$ equal?"
   ]
  },
  {
   "cell_type": "markdown",
   "metadata": {},
   "source": [
    "$\\mathbf{XY}=\\begin{pmatrix}ae+bg & af+bh\\\\ce+dg&cf+dh\\end{pmatrix}$"
   ]
  },
  {
   "cell_type": "markdown",
   "metadata": {},
   "source": [
    "6. Given the following relationship between a matrix $\\textbf{A}$ and a vector $\\mathbf{x}$, what terminology do we use to define $\\mathbf{x}$ and the scalar $a$?\n",
    "$$ \\textbf{A}\\mathbf{x} = a\\mathbf{x}$$"
   ]
  },
  {
   "cell_type": "markdown",
   "metadata": {},
   "source": [
    "eigenvalue and eigenvector"
   ]
  },
  {
   "cell_type": "markdown",
   "metadata": {},
   "source": [
    "7. Write a function in Python that, when executed, prints out a message that tells me how you feel today. Next, execute the function."
   ]
  },
  {
   "cell_type": "code",
   "execution_count": 7,
   "metadata": {},
   "outputs": [
    {
     "name": "stdout",
     "output_type": "stream",
     "text": [
      "I feel okay.\n"
     ]
    }
   ],
   "source": [
    "print(\"I feel okay.\")"
   ]
  },
  {
   "cell_type": "markdown",
   "metadata": {},
   "source": [
    "8. Now, write the same function, but where the subject of the sentence is a variable."
   ]
  },
  {
   "cell_type": "code",
   "execution_count": 3,
   "metadata": {},
   "outputs": [
    {
     "name": "stdout",
     "output_type": "stream",
     "text": [
      "I feel okay.\n"
     ]
    }
   ],
   "source": [
    "a=\"I\"\n",
    "print(a, \"feel okay.\")"
   ]
  },
  {
   "cell_type": "markdown",
   "metadata": {},
   "source": [
    "9. Now write a block of code, using loops, which will print out each person in the classes name, and each way they feel. "
   ]
  },
  {
   "cell_type": "code",
   "execution_count": 9,
   "metadata": {},
   "outputs": [
    {
     "name": "stdout",
     "output_type": "stream",
     "text": [
      "Zac feels okay\n",
      "Sean feels good\n",
      "Fei feels great\n"
     ]
    }
   ],
   "source": [
    "for x in [(\"Zac\", \"okay\"), (\"Sean\", \"good\"), (\"Fei\", \"great\")]:\n",
    "    print(x[0],\"feels\", x[1])"
   ]
  }
 ],
 "metadata": {
  "kernelspec": {
   "display_name": "Python 3",
   "language": "python",
   "name": "python3"
  },
  "language_info": {
   "codemirror_mode": {
    "name": "ipython",
    "version": 3
   },
   "file_extension": ".py",
   "mimetype": "text/x-python",
   "name": "python",
   "nbconvert_exporter": "python",
   "pygments_lexer": "ipython3",
   "version": "3.8.5"
  }
 },
 "nbformat": 4,
 "nbformat_minor": 5
}
